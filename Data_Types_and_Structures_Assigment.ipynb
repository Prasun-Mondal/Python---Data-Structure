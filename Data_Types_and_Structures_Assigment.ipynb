{
  "nbformat": 4,
  "nbformat_minor": 0,
  "metadata": {
    "colab": {
      "provenance": []
    },
    "kernelspec": {
      "name": "python3",
      "display_name": "Python 3"
    },
    "language_info": {
      "name": "python"
    }
  },
  "cells": [
    {
      "cell_type": "markdown",
      "source": [
        "# Data Types and Structures Questions\n",
        "\n",
        "Q1> What are data structures, and why are they important?\n",
        "\n",
        "Ans> Data structures are ways to organize and store data efficiently to perform operations like accessing, inserting, updating, and deleting data. They are important because they allow you to solve problems efficiently by organizing data in ways that optimize performance, reduce space complexity, and speed up operations, which is crucial in large-scale applications.\n",
        "\n",
        "Q2> Explain the difference between mutable and immutable data types with examples?\n",
        "\n",
        "Ans> **Mutable data types**: These are data types whose values can be changed after creation. For example:\n",
        "\n",
        "  1.\tLists ([]): You can change, add, or remove elements in a list.\n",
        "\n",
        "  2.\tDictionaries ({}): You can modify the values associated with keys.\n",
        "\n",
        "  3.\tSets ({}): You can add or remove elements in a set.\n",
        "\n",
        "**Immutable data types**: These are data types whose values cannot be changed once they are created. For example:\n",
        "\n",
        "  1.\tStrings ('abc'): You can't modify a string directly after creation.\n",
        "\n",
        "  2.\tTuples (()): You can't modify the elements in a tuple.\n",
        "\n",
        "  3.\tIntegers, floats: Cannot be altered once they are assigned.\n",
        "\n",
        "Q3> What are the main differences between lists and tuples in Python?\n",
        "\n",
        "Ans> •\t**Mutability**: Lists are mutable, meaning their elements can be modified. Tuples are immutable, meaning once they are created, their elements cannot be changed.\n",
        "\n",
        "•\t**Syntax**: Lists are defined with square brackets ([]), while tuples are defined with parentheses (()).\n",
        "\n",
        "•\t**Performance**: Tuples are generally faster than lists because of their immutability, making them useful in performance-critical situations.\n",
        "\n",
        "•\t**Use cases**: Lists are better for collections of items that may change over time, while tuples are used for fixed collections of items.\n",
        "\n",
        "Q4> Describe how dictionaries store data?\n",
        "\n",
        "Ans> Dictionaries store data as key-value pairs. Each key is unique, and it maps to a specific value. The keys are used to access the corresponding values. In Python, dictionaries are implemented using hash tables, which provide fast lookups based on the key.\n",
        "\n",
        "Q5> Why might you use a set instead of a list in Python?\n",
        "\n",
        "Ans> A set is used instead of a list when you need a collection of unique elements and you don't care about the order of the elements. Sets automatically eliminate duplicates and offer faster membership tests (in keyword) compared to lists.\n",
        "\n",
        "Q6> What is a string in Python, and how is it different from a list?\n",
        "\n",
        "Ans> A string in Python is an immutable sequence of characters. Unlike lists, which can hold elements of any type, strings are specifically designed to hold textual data. Strings cannot be modified in place, whereas lists can be modified by changing, adding, or removing elements.\n",
        "\n",
        "Q7> How do tuples ensure data integrity in Python?\n",
        "\n",
        "Ans> Tuples are immutable, meaning once they are created, their values cannot be changed. This immutability ensures that the data stored in a tuple remains constant throughout the program, making tuples ideal for use in situations where data integrity is essential.\n",
        "\n",
        "Q8> What is a hash table, and how does it relate to dictionaries in Python?\n",
        "\n",
        "Ans> A hash table is a data structure that stores data in key-value pairs, where the key is hashed to determine the index at which the value is stored. Python's dictionaries are implemented using hash tables, providing fast lookups, insertions, and deletions by hashing the keys.\n",
        "\n",
        "Q9> Can lists contain different data types in Python?\n",
        "\n",
        "Ans> Yes, lists can contain elements of different data types. For example, a list can contain integers, strings, floats, and even other lists or dictionaries:\n",
        "```\n",
        "# This is formatted as code\n",
        "\n",
        "my_list = [1, \"hello\", 3.14, [1, 2, 3], {'key': 'value'}]\n",
        "\n",
        "```\n",
        "\n",
        "Q10> Explain why strings are immutable in Python?\n",
        "\n",
        "Ans> Strings are immutable in Python because their content cannot be changed once created. This immutability helps with memory efficiency, allows for string interning (storing only one copy of a string), and ensures that strings can be used safely in contexts like dictionaries, where keys need to be hashable and unchangeable.\n",
        "\n",
        "Q11> What advantages do dictionaries offer over lists for certain tasks?\n",
        "\n",
        "Ans> Dictionaries provide faster lookups for data retrieval by key, while lists require sequential searches. Dictionaries also allow for more intuitive and readable code when you need to store data in key-value pairs, such as storing a person's name as a key and their age as a value.\n",
        "\n",
        "Q12> Describe a scenario where using a tuple would be preferable over a list?\n",
        "\n",
        "Ans> A tuple would be preferable when you need to store a fixed collection of items, such as coordinates (latitude, longitude) or a date (year, month, day), where the data shouldn't change. Tuples are also more memory-efficient and faster than lists when data integrity is a concern.\n",
        "\n",
        "Q13> How do sets handle duplicate values in Python?\n",
        "\n",
        "Ans> Sets automatically eliminate duplicate values. If you try to add an element to a set that is already present, the set will not include the duplicate element. For example:\n",
        "\n",
        "```\n",
        "# This is formatted as code\n",
        "\n",
        "my_set = {1, 2, 3, 3}\n",
        "print(my_set)  # Output: {1, 2, 3}\n",
        "```\n",
        "\n",
        "Q14> How does the “in” keyword work differently for lists and dictionaries?\n",
        "\n",
        "Ans> •\tIn a **list**, the in keyword checks whether an element exists in the list by iterating through each item sequentially.\n",
        "\n",
        "•\tIn a **dictionary**, the in keyword checks whether a specific key exists in the dictionary, performing a faster lookup due to the underlying hash table implementation.\n",
        "\n",
        "Q15> Can you modify the elements of a tuple? Explain why or why not?\n",
        "\n",
        "Ans> No, you cannot modify the elements of a tuple because tuples are immutable. Once a tuple is created, its elements cannot be altered, which ensures data integrity.\n",
        "\n",
        "Q16> What is a nested dictionary, and give an example of its use case?\n",
        "\n",
        "Ans> A nested dictionary is a dictionary where the values themselves are dictionaries. This allows for more complex structures. For example:\n",
        "\n",
        "```\n",
        "# This is formatted as code\n",
        "\n",
        "student = {\n",
        "    \"name\": \"Alice\",\n",
        "    \"grades\": {\n",
        "        \"math\": 90,\n",
        "        \"science\": 85\n",
        "    }\n",
        "}\n",
        "\n",
        "```\n",
        "Q17> Describe the time complexity of accessing elements in a dictionary?\n",
        "\n",
        "Ans> The time complexity for accessing elements in a dictionary is O(1) on average. This is because dictionaries in Python use hash tables, which allow for constant-time access to the value associated with a key.\n",
        "\n",
        "Q18> In what situations are lists preferred over dictionaries?\n",
        "\n",
        "Ans> Lists are preferred over dictionaries when you need an ordered collection of items or when you need to maintain the insertion order (which is guaranteed in Python 3.7+). Lists are also used when you want to access elements by index rather than by a key.\n",
        "\n",
        "Q19> Why are dictionaries considered unordered, and how does that affect data retrieval?\n",
        "\n",
        "Ans> Dictionaries are considered unordered because the key-value pairs are stored based on the hash value of the key, not in the order they were added. However, starting with Python 3.7, dictionaries maintain insertion order, but they are still not \"ordered\" in the sense of being indexed like lists. This affects data retrieval in that you access values via keys rather than position.\n",
        "\n",
        "Q20> Explain the difference between a list and a dictionary in terms of data retrieval.\n",
        "\n",
        "Ans> •\t**List**: Data is retrieved using an index (integer position). For example, my_list[0] retrieves the first element.\n",
        "\n",
        "•\t**Dictionary**: Data is retrieved using a key, not an index. For example, my_dict['key'] retrieves the value associated with that key.\n",
        "\n",
        "\n",
        "\n",
        "\n",
        "\n"
      ],
      "metadata": {
        "id": "oXqAqbUE44N-"
      }
    },
    {
      "cell_type": "markdown",
      "source": [
        "# Practical Questions"
      ],
      "metadata": {
        "id": "j_kGr17mMyTg"
      }
    },
    {
      "cell_type": "markdown",
      "source": [
        "Q1> Write a code to create a string with your name and print it."
      ],
      "metadata": {
        "id": "rQ0Dej-NM4bQ"
      }
    },
    {
      "cell_type": "code",
      "execution_count": null,
      "metadata": {
        "colab": {
          "base_uri": "https://localhost:8080/"
        },
        "id": "E2GtEYvqwDEC",
        "outputId": "8fc580c2-af4e-4ae1-beee-a72976cd2fdb"
      },
      "outputs": [
        {
          "output_type": "stream",
          "name": "stdout",
          "text": [
            "Prasun Mondal\n"
          ]
        }
      ],
      "source": [
        "# Create a string with my name\n",
        "my_name = \"Prasun Mondal\"\n",
        "\n",
        "# Print the string\n",
        "print(my_name)"
      ]
    },
    {
      "cell_type": "markdown",
      "source": [
        "Q2> Write a code to find the length of the string \"Hello World\"."
      ],
      "metadata": {
        "id": "EhPZXj_hNISE"
      }
    },
    {
      "cell_type": "code",
      "source": [
        "#Create a string with Hello World\n",
        "str_a = \"Hello World\"\n",
        "\n",
        "#Length of String\n",
        "len(str_a)"
      ],
      "metadata": {
        "colab": {
          "base_uri": "https://localhost:8080/"
        },
        "id": "ZdZV-mMFNNxo",
        "outputId": "641a7b80-2557-4711-e3c6-9cebf67af323"
      },
      "execution_count": null,
      "outputs": [
        {
          "output_type": "execute_result",
          "data": {
            "text/plain": [
              "11"
            ]
          },
          "metadata": {},
          "execution_count": 2
        }
      ]
    },
    {
      "cell_type": "markdown",
      "source": [
        "Q3> Write a code to slice the first 3 characters from the string \"Python Programming\"."
      ],
      "metadata": {
        "id": "nUfQC_BENcLy"
      }
    },
    {
      "cell_type": "code",
      "source": [
        "#Using Loop\n",
        "str_a = \"Python Programming\"\n",
        "for i in range(3):\n",
        "  print(str_a[i],end=\"\")"
      ],
      "metadata": {
        "colab": {
          "base_uri": "https://localhost:8080/"
        },
        "id": "61BZ2uC6NSd6",
        "outputId": "d690c776-f769-40d6-a644-7a6a2bb803fe"
      },
      "execution_count": null,
      "outputs": [
        {
          "output_type": "stream",
          "name": "stdout",
          "text": [
            "Pyt"
          ]
        }
      ]
    },
    {
      "cell_type": "code",
      "source": [
        "# Original string\n",
        "text = \"Python Programming\"\n",
        "\n",
        "# Slice the first 3 characters\n",
        "sliced_text = text[:3]\n",
        "\n",
        "# Print the sliced text\n",
        "print(sliced_text)"
      ],
      "metadata": {
        "colab": {
          "base_uri": "https://localhost:8080/"
        },
        "id": "4SJS89p5NyC9",
        "outputId": "6c41d348-ef22-4db4-9c9f-9d79aa90e042"
      },
      "execution_count": null,
      "outputs": [
        {
          "output_type": "stream",
          "name": "stdout",
          "text": [
            "Pyt\n"
          ]
        }
      ]
    },
    {
      "cell_type": "markdown",
      "source": [
        "Q4> Write a code to convert the string \"hello\" to uppercase."
      ],
      "metadata": {
        "id": "twAG60zCOFQr"
      }
    },
    {
      "cell_type": "code",
      "source": [
        "# Original string\n",
        "text = \"hello\"\n",
        "\n",
        "# Convert to uppercase\n",
        "uppercase_text = text.upper()\n",
        "\n",
        "# Print the uppercase string\n",
        "print(uppercase_text)"
      ],
      "metadata": {
        "colab": {
          "base_uri": "https://localhost:8080/"
        },
        "id": "95UOWnokOKEB",
        "outputId": "95664700-e7c3-418c-b81c-026710fcb4db"
      },
      "execution_count": null,
      "outputs": [
        {
          "output_type": "stream",
          "name": "stdout",
          "text": [
            "HELLO\n"
          ]
        }
      ]
    },
    {
      "cell_type": "markdown",
      "source": [
        "Q5> Write a code to replace the word \"apple\" with \"orange\" in the string \"I like apple\"."
      ],
      "metadata": {
        "id": "r214JD1vOZYw"
      }
    },
    {
      "cell_type": "code",
      "source": [
        "# Original string\n",
        "text = \"I like apple\"\n",
        "\n",
        "# Replace 'apple' with 'orange'\n",
        "modified_text = text.replace(\"apple\", \"orange\")\n",
        "\n",
        "# Print the modified string\n",
        "print(modified_text)"
      ],
      "metadata": {
        "colab": {
          "base_uri": "https://localhost:8080/"
        },
        "id": "5OBFCBTFOc08",
        "outputId": "2d3dd5e1-646b-440f-c70e-7e113082c95c"
      },
      "execution_count": null,
      "outputs": [
        {
          "output_type": "stream",
          "name": "stdout",
          "text": [
            "I like orange\n"
          ]
        }
      ]
    },
    {
      "cell_type": "markdown",
      "source": [
        "Q6> Write a code to create a list with numbers 1 to 5 and print it."
      ],
      "metadata": {
        "id": "mSvBIt8TOnzJ"
      }
    },
    {
      "cell_type": "code",
      "source": [
        "# Create a list with numbers from 1 to 5\n",
        "numbers = [1, 2, 3, 4, 5]\n",
        "\n",
        "# Print the list\n",
        "print(numbers)"
      ],
      "metadata": {
        "colab": {
          "base_uri": "https://localhost:8080/"
        },
        "id": "CGlmm8ZWO8Ua",
        "outputId": "51d11658-b3fe-435b-d7b7-6f1e2fed1ec6"
      },
      "execution_count": null,
      "outputs": [
        {
          "output_type": "stream",
          "name": "stdout",
          "text": [
            "[1, 2, 3, 4, 5]\n"
          ]
        }
      ]
    },
    {
      "cell_type": "code",
      "source": [
        "#Using Loop\n",
        "list_a = []\n",
        "i=1\n",
        "while i<=5:\n",
        "  list_a.append(i)\n",
        "  i=i+1\n",
        "print(list_a)"
      ],
      "metadata": {
        "colab": {
          "base_uri": "https://localhost:8080/"
        },
        "id": "qUEZE9QLOt40",
        "outputId": "94b3ff1b-0485-405a-8c80-aa4f2d4d77fa"
      },
      "execution_count": null,
      "outputs": [
        {
          "output_type": "stream",
          "name": "stdout",
          "text": [
            "[1, 2, 3, 4, 5]\n"
          ]
        }
      ]
    },
    {
      "cell_type": "markdown",
      "source": [
        "Q7> Write a code to append the number 10 to the list [1, 2, 3, 4]."
      ],
      "metadata": {
        "id": "UHdUvc8ZQqPc"
      }
    },
    {
      "cell_type": "code",
      "source": [
        "#Create list with values - [1, 2, 3, 4]\n",
        "list_a = [1,2,3,4]\n",
        "\n",
        "#Appned the value 10 to list\n",
        "list_a.append(10)\n",
        "\n",
        "#print the modified list\n",
        "print(list_a)"
      ],
      "metadata": {
        "colab": {
          "base_uri": "https://localhost:8080/"
        },
        "id": "-kZHa121QtK2",
        "outputId": "809ed142-4b90-401a-8e9a-42f311ab8df1"
      },
      "execution_count": null,
      "outputs": [
        {
          "output_type": "stream",
          "name": "stdout",
          "text": [
            "[1, 2, 3, 4, 10]\n"
          ]
        }
      ]
    },
    {
      "cell_type": "markdown",
      "source": [
        "Q8> Write a code to remove the number 3 from the list [1, 2, 3, 4, 5]."
      ],
      "metadata": {
        "id": "wKM29mnuRIys"
      }
    },
    {
      "cell_type": "code",
      "source": [
        "#Create list with values - [1, 2, 3, 4]\n",
        "list_a = [1,2,3,4,5]\n",
        "\n",
        "#Remove the value 3 from list\n",
        "list_a.remove(3)\n",
        "\n",
        "#print the modified list\n",
        "print(list_a)"
      ],
      "metadata": {
        "colab": {
          "base_uri": "https://localhost:8080/"
        },
        "id": "V-5e4ukLQznz",
        "outputId": "beae3c07-4518-4e63-ea08-d828104823c5"
      },
      "execution_count": null,
      "outputs": [
        {
          "output_type": "stream",
          "name": "stdout",
          "text": [
            "[1, 2, 4, 5]\n"
          ]
        }
      ]
    },
    {
      "cell_type": "markdown",
      "source": [
        "Q9> Write a code to access the second element in the list ['a', 'b', 'c', 'd']."
      ],
      "metadata": {
        "id": "aKCNB0xDRaCh"
      }
    },
    {
      "cell_type": "code",
      "source": [
        "# List of elements\n",
        "my_list = ['a', 'b', 'c', 'd']\n",
        "\n",
        "# Access the second element (index 1)\n",
        "second_element = my_list[1]\n",
        "\n",
        "# Print the second element\n",
        "print(second_element)"
      ],
      "metadata": {
        "colab": {
          "base_uri": "https://localhost:8080/"
        },
        "id": "j2IdgoJlReaH",
        "outputId": "49d957f5-5ac0-4325-c5bb-8b913a205c56"
      },
      "execution_count": null,
      "outputs": [
        {
          "output_type": "stream",
          "name": "stdout",
          "text": [
            "b\n"
          ]
        }
      ]
    },
    {
      "cell_type": "markdown",
      "source": [
        "Q10> Write a code to reverse the list [10, 20, 30, 40, 50]."
      ],
      "metadata": {
        "id": "hHDHcrQjRm1L"
      }
    },
    {
      "cell_type": "code",
      "source": [
        "# Original list\n",
        "my_list = [10, 20, 30, 40, 50]\n",
        "\n",
        "# Reverse the list\n",
        "my_list.reverse()\n",
        "\n",
        "# Print the reversed list\n",
        "print(my_list)"
      ],
      "metadata": {
        "colab": {
          "base_uri": "https://localhost:8080/"
        },
        "id": "CrhRfsyhRQaO",
        "outputId": "52f93df2-7609-4723-9452-8eefc453a227"
      },
      "execution_count": null,
      "outputs": [
        {
          "output_type": "stream",
          "name": "stdout",
          "text": [
            "[50, 40, 30, 20, 10]\n"
          ]
        }
      ]
    },
    {
      "cell_type": "markdown",
      "source": [
        "Q11> Write a code to create a tuple with the elements 10, 20, 30 and print it."
      ],
      "metadata": {
        "id": "lZa6yDZHaZV2"
      }
    },
    {
      "cell_type": "code",
      "source": [
        "# Creating the tuple\n",
        "tuple_a = (10, 20, 30)\n",
        "\n",
        "# Printing the tuple\n",
        "print(tuple_a)"
      ],
      "metadata": {
        "colab": {
          "base_uri": "https://localhost:8080/"
        },
        "id": "J0v_1HESadTb",
        "outputId": "901192c2-a255-4fb5-a0ef-9518adbc9eb1"
      },
      "execution_count": 1,
      "outputs": [
        {
          "output_type": "stream",
          "name": "stdout",
          "text": [
            "(10, 20, 30)\n"
          ]
        }
      ]
    },
    {
      "cell_type": "markdown",
      "source": [
        "Q12> Write a code to access the first element of the tuple ('apple', 'banana', 'cherry')."
      ],
      "metadata": {
        "id": "f3xiGwXlawua"
      }
    },
    {
      "cell_type": "code",
      "source": [
        "#Creating the tuple\n",
        "tuple_a = ('apple', 'banana', 'cherry')\n",
        "\n",
        "#Access the first element\n",
        "a=tuple_a[0]\n",
        "\n",
        "#print a\n",
        "print(\"First element is - \",a)"
      ],
      "metadata": {
        "colab": {
          "base_uri": "https://localhost:8080/"
        },
        "id": "EiwTlpIFa1cS",
        "outputId": "8419b72d-c426-4f5a-de54-1a34bb9052ce"
      },
      "execution_count": 5,
      "outputs": [
        {
          "output_type": "stream",
          "name": "stdout",
          "text": [
            "First element is -  apple\n"
          ]
        }
      ]
    },
    {
      "cell_type": "markdown",
      "source": [
        "Q13>  Write a code to count how many times the number 2 appears in the tuple (1, 2, 3, 2, 4, 2)."
      ],
      "metadata": {
        "id": "AiCo5irgbTVc"
      }
    },
    {
      "cell_type": "code",
      "source": [
        "#Creating the tuple\n",
        "tuple_num =  (1, 2, 3, 2, 4, 2)\n",
        "count = 0\n",
        "for i in tuple_num:\n",
        "  if i == 2:\n",
        "    count=count+1\n",
        "print(\"Number 2 appears for - \",count,\"times\")"
      ],
      "metadata": {
        "colab": {
          "base_uri": "https://localhost:8080/"
        },
        "id": "a1K8h6IvbE3d",
        "outputId": "76608b67-0554-4aa8-b020-a4f92e7ad28d"
      },
      "execution_count": 10,
      "outputs": [
        {
          "output_type": "stream",
          "name": "stdout",
          "text": [
            "Number 2 appears for -  3 times\n"
          ]
        }
      ]
    },
    {
      "cell_type": "markdown",
      "source": [
        "Q14> Write a code to find the index of the element \"cat\" in the tuple ('dog', 'cat', 'rabbit')."
      ],
      "metadata": {
        "id": "FUrqh6i1cit5"
      }
    },
    {
      "cell_type": "code",
      "source": [
        "#creating the tuple\n",
        "tuple_animal =  ('dog', 'cat', 'rabbit')\n",
        "\n",
        "#Using Loop\n",
        "for i in range(0,len(tuple_animal)):\n",
        "  if tuple_animal[i] == 'cat':\n",
        "    print(\"Index of the element 'cat' - \", i)\n",
        ""
      ],
      "metadata": {
        "colab": {
          "base_uri": "https://localhost:8080/"
        },
        "id": "nhBtcwhycI44",
        "outputId": "0c079754-41b3-4465-d0ad-ee9db97842e6"
      },
      "execution_count": 18,
      "outputs": [
        {
          "output_type": "stream",
          "name": "stdout",
          "text": [
            "Index of the element 'cat' -  1\n"
          ]
        }
      ]
    },
    {
      "cell_type": "code",
      "source": [
        "\n",
        "# Finding the index of the element \"cat\"\n",
        "index_of_cat = tuple_animal.index('cat')\n",
        "\n",
        "# Printing the index\n",
        "print(index_of_cat)"
      ],
      "metadata": {
        "colab": {
          "base_uri": "https://localhost:8080/"
        },
        "id": "TLJ6GZ1ldzer",
        "outputId": "50e86492-cf39-463c-e5fb-489db1a07bcf"
      },
      "execution_count": 19,
      "outputs": [
        {
          "output_type": "stream",
          "name": "stdout",
          "text": [
            "1\n"
          ]
        }
      ]
    },
    {
      "cell_type": "markdown",
      "source": [
        "Q15> Write a code to check if the element \"banana\" is in the tuple ('apple', 'orange', 'banana')."
      ],
      "metadata": {
        "id": "I74whrF7ejIs"
      }
    },
    {
      "cell_type": "code",
      "source": [
        "# Creating the tuple\n",
        "my_tuple = ('apple', 'orange', 'banana')\n",
        "\n",
        "# Checking if \"banana\" is in the tuple\n",
        "if 'banana' in my_tuple:\n",
        "    print(\"Yes, 'banana' is in the tuple.\")\n",
        "else:\n",
        "    print(\"No, 'banana' is not in the tuple.\")"
      ],
      "metadata": {
        "colab": {
          "base_uri": "https://localhost:8080/"
        },
        "id": "DHXzgFK_eq5N",
        "outputId": "20b30e80-07df-4199-e626-ae3690a71724"
      },
      "execution_count": 20,
      "outputs": [
        {
          "output_type": "stream",
          "name": "stdout",
          "text": [
            "Yes, 'banana' is in the tuple.\n"
          ]
        }
      ]
    },
    {
      "cell_type": "markdown",
      "source": [
        "Q16> Write a code to create a set with the elements 1, 2, 3, 4, 5 and print it."
      ],
      "metadata": {
        "id": "kWGzmn8ne0YV"
      }
    },
    {
      "cell_type": "code",
      "source": [
        "# Creating the set\n",
        "my_set = {1, 2, 3, 4, 5}\n",
        "\n",
        "# Printing the set\n",
        "print(my_set)"
      ],
      "metadata": {
        "colab": {
          "base_uri": "https://localhost:8080/"
        },
        "id": "Fp2SLkQWe39M",
        "outputId": "dd3b6bb1-ea64-4d78-d1d1-31fb7484ad3a"
      },
      "execution_count": 21,
      "outputs": [
        {
          "output_type": "stream",
          "name": "stdout",
          "text": [
            "{1, 2, 3, 4, 5}\n"
          ]
        }
      ]
    },
    {
      "cell_type": "markdown",
      "source": [
        "Q17> Write a code to add the element 6 to the set {1, 2, 3, 4}."
      ],
      "metadata": {
        "id": "rEqgiHxze9LD"
      }
    },
    {
      "cell_type": "code",
      "source": [
        "#creating the set\n",
        "my_set = {1,2,3,4}\n",
        "\n",
        "#add element 6 to set\n",
        "my_set.add(6)\n",
        "\n",
        "#print the new value of set\n",
        "print(my_set)"
      ],
      "metadata": {
        "colab": {
          "base_uri": "https://localhost:8080/"
        },
        "id": "QLGcFPmbfFDb",
        "outputId": "95d52e2d-b08b-4c2e-e9b5-2f93c802c5cc"
      },
      "execution_count": 25,
      "outputs": [
        {
          "output_type": "stream",
          "name": "stdout",
          "text": [
            "{1, 2, 3, 4, 6}\n"
          ]
        }
      ]
    },
    {
      "cell_type": "markdown",
      "source": [
        "Q18> Write a code to create a tuple with the elements 10, 20, 30 and print it."
      ],
      "metadata": {
        "id": "1qGNWW06fe7Z"
      }
    },
    {
      "cell_type": "code",
      "source": [
        "#create the tuple\n",
        "my_tuple = (10,20,30)\n",
        "\n",
        "#print the tuple\n",
        "print(my_tuple)"
      ],
      "metadata": {
        "colab": {
          "base_uri": "https://localhost:8080/"
        },
        "id": "7z2W7eipfTf0",
        "outputId": "7a3885c3-65ae-4154-deb3-5063a9f78aaa"
      },
      "execution_count": 26,
      "outputs": [
        {
          "output_type": "stream",
          "name": "stdout",
          "text": [
            "(10, 20, 30)\n"
          ]
        }
      ]
    },
    {
      "cell_type": "markdown",
      "source": [
        "Q19> Write a code to access the first element of the tuple ('apple', 'banana', 'cherry')."
      ],
      "metadata": {
        "id": "ZTlnw-XagOgB"
      }
    },
    {
      "cell_type": "code",
      "source": [
        "#Creating the tuple\n",
        "tuple_a = ('apple', 'banana', 'cherry')\n",
        "\n",
        "#Access the first element\n",
        "a=tuple_a[0]\n",
        "\n",
        "#print a\n",
        "print(\"First element is - \",a)"
      ],
      "metadata": {
        "colab": {
          "base_uri": "https://localhost:8080/"
        },
        "outputId": "8419b72d-c426-4f5a-de54-1a34bb9052ce",
        "id": "jnMiJka8gOgB"
      },
      "execution_count": null,
      "outputs": [
        {
          "output_type": "stream",
          "name": "stdout",
          "text": [
            "First element is -  apple\n"
          ]
        }
      ]
    },
    {
      "cell_type": "markdown",
      "source": [
        "Q20>  Write a code to count how many times the number 2 appears in the tuple (1, 2, 3, 2, 4, 2)."
      ],
      "metadata": {
        "id": "j_Ep5RadgOgC"
      }
    },
    {
      "cell_type": "code",
      "source": [
        "#Creating the tuple\n",
        "tuple_num =  (1, 2, 3, 2, 4, 2)\n",
        "count = 0\n",
        "for i in tuple_num:\n",
        "  if i == 2:\n",
        "    count=count+1\n",
        "print(\"Number 2 appears for - \",count,\"times\")"
      ],
      "metadata": {
        "colab": {
          "base_uri": "https://localhost:8080/"
        },
        "outputId": "7a4dfb95-b5a6-4720-9db1-f4ee35dce957",
        "id": "YOR8ZbiEgOgD"
      },
      "execution_count": 27,
      "outputs": [
        {
          "output_type": "stream",
          "name": "stdout",
          "text": [
            "Number 2 appears for -  3 times\n"
          ]
        }
      ]
    },
    {
      "cell_type": "markdown",
      "source": [
        "Q21> Write a code to find the index of the element \"cat\" in the tuple ('dog', 'cat', 'rabbit')."
      ],
      "metadata": {
        "id": "r3hIBwvOgOgD"
      }
    },
    {
      "cell_type": "code",
      "source": [
        "#creating the tuple\n",
        "tuple_animal =  ('dog', 'cat', 'rabbit')\n",
        "\n",
        "#Using Loop\n",
        "for i in range(0,len(tuple_animal)):\n",
        "  if tuple_animal[i] == 'cat':\n",
        "    print(\"Index of the element 'cat' - \", i)\n"
      ],
      "metadata": {
        "colab": {
          "base_uri": "https://localhost:8080/"
        },
        "outputId": "0c079754-41b3-4465-d0ad-ee9db97842e6",
        "id": "qVOlDGgqgOgD"
      },
      "execution_count": null,
      "outputs": [
        {
          "output_type": "stream",
          "name": "stdout",
          "text": [
            "Index of the element 'cat' -  1\n"
          ]
        }
      ]
    },
    {
      "cell_type": "code",
      "source": [
        "\n",
        "# Finding the index of the element \"cat\"\n",
        "index_of_cat = tuple_animal.index('cat')\n",
        "\n",
        "# Printing the index\n",
        "print(index_of_cat)"
      ],
      "metadata": {
        "colab": {
          "base_uri": "https://localhost:8080/"
        },
        "outputId": "50e86492-cf39-463c-e5fb-489db1a07bcf",
        "id": "RDyCycElgOgD"
      },
      "execution_count": null,
      "outputs": [
        {
          "output_type": "stream",
          "name": "stdout",
          "text": [
            "1\n"
          ]
        }
      ]
    },
    {
      "cell_type": "markdown",
      "source": [
        "Q22> Write a code to check if the element \"banana\" is in the tuple ('apple', 'orange', 'banana')."
      ],
      "metadata": {
        "id": "lLnNrtVngOgE"
      }
    },
    {
      "cell_type": "code",
      "source": [
        "# Creating the tuple\n",
        "my_tuple = ('apple', 'orange', 'banana')\n",
        "\n",
        "# Checking if \"banana\" is in the tuple\n",
        "if 'banana' in my_tuple:\n",
        "    print(\"Yes, 'banana' is in the tuple.\")\n",
        "else:\n",
        "    print(\"No, 'banana' is not in the tuple.\")"
      ],
      "metadata": {
        "colab": {
          "base_uri": "https://localhost:8080/"
        },
        "outputId": "20b30e80-07df-4199-e626-ae3690a71724",
        "id": "eQB5V-AfgOgE"
      },
      "execution_count": null,
      "outputs": [
        {
          "output_type": "stream",
          "name": "stdout",
          "text": [
            "Yes, 'banana' is in the tuple.\n"
          ]
        }
      ]
    },
    {
      "cell_type": "markdown",
      "source": [
        "Q23> Write a code to create a set with the elements 1, 2, 3, 4, 5 and print it."
      ],
      "metadata": {
        "id": "ywEicRdRgOgF"
      }
    },
    {
      "cell_type": "code",
      "source": [
        "# Creating the set\n",
        "my_set = {1, 2, 3, 4, 5}\n",
        "\n",
        "# Printing the set\n",
        "print(my_set)"
      ],
      "metadata": {
        "colab": {
          "base_uri": "https://localhost:8080/"
        },
        "outputId": "dd3b6bb1-ea64-4d78-d1d1-31fb7484ad3a",
        "id": "v7mg0u5_gOgF"
      },
      "execution_count": null,
      "outputs": [
        {
          "output_type": "stream",
          "name": "stdout",
          "text": [
            "{1, 2, 3, 4, 5}\n"
          ]
        }
      ]
    },
    {
      "cell_type": "markdown",
      "source": [
        "Q24> Write a code to add the element 6 to the set {1, 2, 3, 4}."
      ],
      "metadata": {
        "id": "0vtLI8DdgOgG"
      }
    },
    {
      "cell_type": "code",
      "source": [
        "#creating the set\n",
        "my_set = {1,2,3,4}\n",
        "\n",
        "#add element 6 to set\n",
        "my_set.add(6)\n",
        "\n",
        "#print the new value of set\n",
        "print(my_set)"
      ],
      "metadata": {
        "colab": {
          "base_uri": "https://localhost:8080/"
        },
        "outputId": "95d52e2d-b08b-4c2e-e9b5-2f93c802c5cc",
        "id": "47xbLYZ3gOgG"
      },
      "execution_count": null,
      "outputs": [
        {
          "output_type": "stream",
          "name": "stdout",
          "text": [
            "{1, 2, 3, 4, 6}\n"
          ]
        }
      ]
    }
  ]
}